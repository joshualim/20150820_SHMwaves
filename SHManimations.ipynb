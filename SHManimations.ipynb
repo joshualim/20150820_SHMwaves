{
 "cells": [
  {
   "cell_type": "markdown",
   "metadata": {},
   "source": [
    "## Simple harmonic motion animations\n",
    "This notebook generates some different simple harmonic motion animations."
   ]
  },
  {
   "cell_type": "code",
   "execution_count": 4,
   "metadata": {
    "collapsed": false
   },
   "outputs": [],
   "source": [
    "## set up\n",
    "from numpy import *\n",
    "import matplotlib.pyplot as plt\n",
    "import matplotlib.animation as animation"
   ]
  },
  {
   "cell_type": "code",
   "execution_count": 5,
   "metadata": {
    "collapsed": false
   },
   "outputs": [
    {
     "name": "stderr",
     "output_type": "stream",
     "text": [
      "Exception in Tkinter callback\n",
      "Traceback (most recent call last):\n",
      "  File \"/usr/lib/python2.7/lib-tk/Tkinter.py\", line 1489, in __call__\n",
      "    return self.func(*args)\n",
      "  File \"/usr/lib/python2.7/lib-tk/Tkinter.py\", line 536, in callit\n",
      "    func(*args)\n",
      "  File \"/usr/lib/pymodules/python2.7/matplotlib/backends/backend_tkagg.py\", line 141, in _on_timer\n",
      "    TimerBase._on_timer(self)\n",
      "  File \"/usr/lib/pymodules/python2.7/matplotlib/backend_bases.py\", line 1203, in _on_timer\n",
      "    ret = func(*args, **kwargs)\n",
      "  File \"/usr/lib/pymodules/python2.7/matplotlib/animation.py\", line 876, in _step\n",
      "    still_going = Animation._step(self, *args)\n",
      "  File \"/usr/lib/pymodules/python2.7/matplotlib/animation.py\", line 735, in _step\n",
      "    self._draw_next_frame(framedata, self._blit)\n",
      "  File \"/usr/lib/pymodules/python2.7/matplotlib/animation.py\", line 753, in _draw_next_frame\n",
      "    self._pre_draw(framedata, blit)\n",
      "  File \"/usr/lib/pymodules/python2.7/matplotlib/animation.py\", line 766, in _pre_draw\n",
      "    self._blit_clear(self._drawn_artists, self._blit_cache)\n",
      "  File \"/usr/lib/pymodules/python2.7/matplotlib/animation.py\", line 806, in _blit_clear\n",
      "    a.figure.canvas.restore_region(bg_cache[a])\n",
      "KeyError: <matplotlib.axes.AxesSubplot object at 0x7f8c4b3ee990>\n"
     ]
    }
   ],
   "source": [
    "## Travelling wave\n",
    "fig, ax = plt.subplots()\n",
    "omega=0.1\n",
    "x = arange(0, 2*pi, 0.1)        # x-array\n",
    "line, = ax.plot(x, sin(x))\n",
    "line0,= ax.plot(x, 0*x,  linestyle='--', c='b')\n",
    "ax.axes.get_xaxis().set_visible(False)\n",
    "#line0.set_ydata(0*x)  # update the data\n",
    "\n",
    "def animate(i):\n",
    "    line.set_ydata(0.3*sin(x+i*omega))  # update the data\n",
    "    return line,\n",
    "\n",
    "# Init only required for blitting to give a clean slate.\n",
    "def init():\n",
    "    line.set_ydata(ma.array(x, mask=True))\n",
    "    return line,\n",
    "\n",
    "ani = animation.FuncAnimation(fig, animate, arange(1, ceil(2*pi/omega)), init_func=init,\n",
    "    interval=25, blit=True)\n",
    "\n",
    "# ani.save('travellingwave2.gif', writer='imagemagick', fps=30);\n",
    "plt.show()"
   ]
  },
  {
   "cell_type": "markdown",
   "metadata": {},
   "source": [
    "<center> <img src=\"travellingwave.gif\" />  </center>"
   ]
  },
  {
   "cell_type": "code",
   "execution_count": 6,
   "metadata": {
    "collapsed": false
   },
   "outputs": [],
   "source": [
    "## Oscillating wave\n",
    "fig, ax = plt.subplots()\n",
    "\n",
    "k=2.5\n",
    "omega=0.05\n",
    "x = arange(0, 2*pi, 0.1)        # x-array\n",
    "line, = ax.plot(x, sin(x), marker='o', linestyle='None', c='r')\n",
    "line2,= ax.plot(x, 0*x,  linestyle='--', c='r')\n",
    "plt.xlabel('Distance')\n",
    "plt.ylabel('Amplitude')\n",
    "\n",
    "def animate(i):\n",
    "    line.set_ydata(sin(omega*i)*sin(k*x))  # update the data\n",
    "    return line,\n",
    "\n",
    "# Init only required for blitting to give a clean slate.\n",
    "def init():\n",
    "    line.set_ydata(ma.array(x, mask=True))\n",
    "    return line,\n",
    "\n",
    "ani = animation.FuncAnimation(fig, animate, arange(1, ceil(2*pi/omega)), init_func=init,\n",
    "    interval=25, blit=True)\n",
    "\n",
    "# ani.save('SHM.gif', writer='imagemagick', fps=30);\n",
    "plt.show()"
   ]
  },
  {
   "cell_type": "markdown",
   "metadata": {},
   "source": [
    "<center> <img src=\"SHM.gif\" />  </center>"
   ]
  },
  {
   "cell_type": "code",
   "execution_count": 2,
   "metadata": {
    "collapsed": false
   },
   "outputs": [],
   "source": [
    "## Two oscillating wave in antiphase\n",
    "fig, ax = plt.subplots()\n",
    "\n",
    "k=2.5\n",
    "omega=0.05\n",
    "\n",
    "x = arange(0, 2*pi, 0.1)        # x-array\n",
    "line, = ax.plot(x, sin(x), marker='o', linestyle='None', c='r')\n",
    "line0,= ax.plot(x, 0*x,  linestyle='--', c='k')\n",
    "line2,= ax.plot(x, 0*x,  marker='o',linestyle='None', c='b')\n",
    "plt.xlabel('Distance')\n",
    "plt.ylabel('Amplitude')\n",
    "\n",
    "def animate(i):\n",
    "    line.set_ydata(sin(omega*i)*sin(k*x))  # update the data\n",
    "    line2.set_ydata(-sin(omega*i)*sin(k*x)) \n",
    "    return line,line2,\n",
    "\n",
    "# Init only required for blitting to give a clean slate.\n",
    "def init():\n",
    "    line.set_ydata(ma.array(x, mask=True))\n",
    "    line2.set_ydata(ma.array(x, mask=True))\n",
    "    return line,\n",
    "\n",
    "ani = animation.FuncAnimation(fig, animate, arange(1, ceil(2*pi/omega)), init_func=init,\n",
    "    interval=25, blit=True)\n",
    "\n",
    "# ani.save('antiphase.gif', writer='imagemagick', fps=30);\n",
    "plt.show()"
   ]
  },
  {
   "cell_type": "markdown",
   "metadata": {},
   "source": [
    "<center> <img src=\"antiphase.gif\" />  </center>"
   ]
  },
  {
   "cell_type": "code",
   "execution_count": 5,
   "metadata": {
    "collapsed": false
   },
   "outputs": [],
   "source": [
    "## beats\n",
    "fig, ax = plt.subplots()\n",
    "\n",
    "k=2.5\n",
    "omega=0.05\n",
    "omega2=0.045\n",
    "\n",
    "x = arange(0, 2*pi, 0.1)        # x-array\n",
    "line, = ax.plot(x, sin(x), marker='o', linestyle='None', c='r')\n",
    "line0,= ax.plot(x, 0*x,  linestyle='--', c='b')\n",
    "line2,= ax.plot(x, 0*x,  marker='o',linestyle='None', c='g')\n",
    "plt.xlabel('Distance')\n",
    "plt.ylabel('Amplitude')\n",
    "\n",
    "def animate(i):\n",
    "    line.set_ydata(sin(omega*i)*sin(k*x)+sin(omega2*i)*sin(k*x))  # update the data\n",
    "    #line2.set_ydata(-sin(omega*i)*sin(k*x)) \n",
    "    return line,line2,\n",
    "\n",
    "# Init only required for blitting to give a clean slate.\n",
    "def init():\n",
    "    line.set_ydata(ma.array(x, mask=True))\n",
    "    line2.set_ydata(ma.array(x, mask=True))\n",
    "    return line,\n",
    "\n",
    "ani = animation.FuncAnimation(fig, animate, arange(1, ceil(2*pi/omega)), init_func=init,\n",
    "    interval=25, blit=True)\n",
    "\n",
    "# ani.save('antiphase.gif', writer='imagemagick', fps=30);\n",
    "plt.show()\n"
   ]
  },
  {
   "cell_type": "code",
   "execution_count": null,
   "metadata": {
    "collapsed": true
   },
   "outputs": [],
   "source": []
  }
 ],
 "metadata": {
  "kernelspec": {
   "display_name": "Python 2",
   "language": "python",
   "name": "python2"
  },
  "language_info": {
   "codemirror_mode": {
    "name": "ipython",
    "version": 2
   },
   "file_extension": ".py",
   "mimetype": "text/x-python",
   "name": "python",
   "nbconvert_exporter": "python",
   "pygments_lexer": "ipython2",
   "version": "2.7.6"
  }
 },
 "nbformat": 4,
 "nbformat_minor": 0
}
